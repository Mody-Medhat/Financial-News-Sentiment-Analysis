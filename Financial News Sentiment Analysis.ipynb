{
  "cells": [
    {
      "cell_type": "markdown",
      "id": "cdc0791f-22c7-4aa5-ba25-b1321824bf95",
      "metadata": {
        "id": "cdc0791f-22c7-4aa5-ba25-b1321824bf95"
      },
      "source": [
        "# Imprtant Library"
      ]
    },
    {
      "cell_type": "code",
      "execution_count": 4,
      "id": "e5172ed5-da72-4172-84b8-8e9853fb5faf",
      "metadata": {
        "id": "e5172ed5-da72-4172-84b8-8e9853fb5faf"
      },
      "outputs": [],
      "source": [
        "# Standard libraries\n",
        "import os\n",
        "\n",
        "# Data manipulation and processing\n",
        "import pandas as pd\n",
        "import re\n",
        "\n",
        "# Web scraping\n",
        "from bs4 import BeautifulSoup\n",
        "\n",
        "# Deep learning\n",
        "import torch\n",
        "from torch.utils.data import Dataset\n",
        "\n",
        "# Transformers library\n",
        "from transformers import BertTokenizer, BertForSequenceClassification, Trainer, TrainingArguments\n",
        "from transformers import EarlyStoppingCallback\n",
        "from transformers import pipeline\n",
        "\n",
        "# Model evaluation and data splitting\n",
        "from sklearn.model_selection import train_test_split\n",
        "from sklearn.metrics import accuracy_score, precision_recall_fscore_support\n",
        "\n",
        "# Visualization\n",
        "import matplotlib.pyplot as plt\n",
        "import seaborn as sns\n"
      ]
    },
    {
      "cell_type": "markdown",
      "id": "4f75e211-ff4d-4d3b-954f-5181f8518855",
      "metadata": {
        "id": "4f75e211-ff4d-4d3b-954f-5181f8518855"
      },
      "source": [
        "# Setting Environment"
      ]
    },
    {
      "cell_type": "code",
      "execution_count": 5,
      "id": "3fcff0c4-9a11-4bb9-8f43-f18a7b40edef",
      "metadata": {
        "id": "3fcff0c4-9a11-4bb9-8f43-f18a7b40edef"
      },
      "outputs": [],
      "source": [
        "# Disable symlink warning\n",
        "os.environ['HF_HUB_DISABLE_SYMLINKS_WARNING'] = '1'"
      ]
    },
    {
      "cell_type": "markdown",
      "id": "5f10fe28-a9a5-4e82-a4c3-9bbd797cd696",
      "metadata": {
        "id": "5f10fe28-a9a5-4e82-a4c3-9bbd797cd696"
      },
      "source": [
        "# Data Preprocessing && Cleaning"
      ]
    },
    {
      "cell_type": "code",
      "execution_count": 6,
      "id": "c3c665d5-5d2f-4cf8-95a3-ac357230cff1",
      "metadata": {
        "colab": {
          "base_uri": "https://localhost:8080/",
          "height": 206
        },
        "id": "c3c665d5-5d2f-4cf8-95a3-ac357230cff1",
        "outputId": "244be959-cac5-43d2-cdc9-8172a33c2344"
      },
      "outputs": [
        {
          "output_type": "execute_result",
          "data": {
            "text/plain": [
              "    neutral  \\\n",
              "0   neutral   \n",
              "1  negative   \n",
              "2  positive   \n",
              "3  positive   \n",
              "4  positive   \n",
              "\n",
              "  According to Gran , the company has no plans to move all production to Russia , although that is where the company is growing .  \n",
              "0  Technopolis plans to develop in stages an area...                                                                               \n",
              "1  The international electronic industry company ...                                                                               \n",
              "2  With the new production plant the company woul...                                                                               \n",
              "3  According to the company 's updated strategy f...                                                                               \n",
              "4  FINANCING OF ASPOCOMP 'S GROWTH Aspocomp is ag...                                                                               "
            ],
            "text/html": [
              "\n",
              "  <div id=\"df-bdb28e7f-d3c6-4276-92df-7536fa51d187\" class=\"colab-df-container\">\n",
              "    <div>\n",
              "<style scoped>\n",
              "    .dataframe tbody tr th:only-of-type {\n",
              "        vertical-align: middle;\n",
              "    }\n",
              "\n",
              "    .dataframe tbody tr th {\n",
              "        vertical-align: top;\n",
              "    }\n",
              "\n",
              "    .dataframe thead th {\n",
              "        text-align: right;\n",
              "    }\n",
              "</style>\n",
              "<table border=\"1\" class=\"dataframe\">\n",
              "  <thead>\n",
              "    <tr style=\"text-align: right;\">\n",
              "      <th></th>\n",
              "      <th>neutral</th>\n",
              "      <th>According to Gran , the company has no plans to move all production to Russia , although that is where the company is growing .</th>\n",
              "    </tr>\n",
              "  </thead>\n",
              "  <tbody>\n",
              "    <tr>\n",
              "      <th>0</th>\n",
              "      <td>neutral</td>\n",
              "      <td>Technopolis plans to develop in stages an area...</td>\n",
              "    </tr>\n",
              "    <tr>\n",
              "      <th>1</th>\n",
              "      <td>negative</td>\n",
              "      <td>The international electronic industry company ...</td>\n",
              "    </tr>\n",
              "    <tr>\n",
              "      <th>2</th>\n",
              "      <td>positive</td>\n",
              "      <td>With the new production plant the company woul...</td>\n",
              "    </tr>\n",
              "    <tr>\n",
              "      <th>3</th>\n",
              "      <td>positive</td>\n",
              "      <td>According to the company 's updated strategy f...</td>\n",
              "    </tr>\n",
              "    <tr>\n",
              "      <th>4</th>\n",
              "      <td>positive</td>\n",
              "      <td>FINANCING OF ASPOCOMP 'S GROWTH Aspocomp is ag...</td>\n",
              "    </tr>\n",
              "  </tbody>\n",
              "</table>\n",
              "</div>\n",
              "    <div class=\"colab-df-buttons\">\n",
              "\n",
              "  <div class=\"colab-df-container\">\n",
              "    <button class=\"colab-df-convert\" onclick=\"convertToInteractive('df-bdb28e7f-d3c6-4276-92df-7536fa51d187')\"\n",
              "            title=\"Convert this dataframe to an interactive table.\"\n",
              "            style=\"display:none;\">\n",
              "\n",
              "  <svg xmlns=\"http://www.w3.org/2000/svg\" height=\"24px\" viewBox=\"0 -960 960 960\">\n",
              "    <path d=\"M120-120v-720h720v720H120Zm60-500h600v-160H180v160Zm220 220h160v-160H400v160Zm0 220h160v-160H400v160ZM180-400h160v-160H180v160Zm440 0h160v-160H620v160ZM180-180h160v-160H180v160Zm440 0h160v-160H620v160Z\"/>\n",
              "  </svg>\n",
              "    </button>\n",
              "\n",
              "  <style>\n",
              "    .colab-df-container {\n",
              "      display:flex;\n",
              "      gap: 12px;\n",
              "    }\n",
              "\n",
              "    .colab-df-convert {\n",
              "      background-color: #E8F0FE;\n",
              "      border: none;\n",
              "      border-radius: 50%;\n",
              "      cursor: pointer;\n",
              "      display: none;\n",
              "      fill: #1967D2;\n",
              "      height: 32px;\n",
              "      padding: 0 0 0 0;\n",
              "      width: 32px;\n",
              "    }\n",
              "\n",
              "    .colab-df-convert:hover {\n",
              "      background-color: #E2EBFA;\n",
              "      box-shadow: 0px 1px 2px rgba(60, 64, 67, 0.3), 0px 1px 3px 1px rgba(60, 64, 67, 0.15);\n",
              "      fill: #174EA6;\n",
              "    }\n",
              "\n",
              "    .colab-df-buttons div {\n",
              "      margin-bottom: 4px;\n",
              "    }\n",
              "\n",
              "    [theme=dark] .colab-df-convert {\n",
              "      background-color: #3B4455;\n",
              "      fill: #D2E3FC;\n",
              "    }\n",
              "\n",
              "    [theme=dark] .colab-df-convert:hover {\n",
              "      background-color: #434B5C;\n",
              "      box-shadow: 0px 1px 3px 1px rgba(0, 0, 0, 0.15);\n",
              "      filter: drop-shadow(0px 1px 2px rgba(0, 0, 0, 0.3));\n",
              "      fill: #FFFFFF;\n",
              "    }\n",
              "  </style>\n",
              "\n",
              "    <script>\n",
              "      const buttonEl =\n",
              "        document.querySelector('#df-bdb28e7f-d3c6-4276-92df-7536fa51d187 button.colab-df-convert');\n",
              "      buttonEl.style.display =\n",
              "        google.colab.kernel.accessAllowed ? 'block' : 'none';\n",
              "\n",
              "      async function convertToInteractive(key) {\n",
              "        const element = document.querySelector('#df-bdb28e7f-d3c6-4276-92df-7536fa51d187');\n",
              "        const dataTable =\n",
              "          await google.colab.kernel.invokeFunction('convertToInteractive',\n",
              "                                                    [key], {});\n",
              "        if (!dataTable) return;\n",
              "\n",
              "        const docLinkHtml = 'Like what you see? Visit the ' +\n",
              "          '<a target=\"_blank\" href=https://colab.research.google.com/notebooks/data_table.ipynb>data table notebook</a>'\n",
              "          + ' to learn more about interactive tables.';\n",
              "        element.innerHTML = '';\n",
              "        dataTable['output_type'] = 'display_data';\n",
              "        await google.colab.output.renderOutput(dataTable, element);\n",
              "        const docLink = document.createElement('div');\n",
              "        docLink.innerHTML = docLinkHtml;\n",
              "        element.appendChild(docLink);\n",
              "      }\n",
              "    </script>\n",
              "  </div>\n",
              "\n",
              "\n",
              "<div id=\"df-3c0f336d-9988-4132-ab7c-26de927c3489\">\n",
              "  <button class=\"colab-df-quickchart\" onclick=\"quickchart('df-3c0f336d-9988-4132-ab7c-26de927c3489')\"\n",
              "            title=\"Suggest charts\"\n",
              "            style=\"display:none;\">\n",
              "\n",
              "<svg xmlns=\"http://www.w3.org/2000/svg\" height=\"24px\"viewBox=\"0 0 24 24\"\n",
              "     width=\"24px\">\n",
              "    <g>\n",
              "        <path d=\"M19 3H5c-1.1 0-2 .9-2 2v14c0 1.1.9 2 2 2h14c1.1 0 2-.9 2-2V5c0-1.1-.9-2-2-2zM9 17H7v-7h2v7zm4 0h-2V7h2v10zm4 0h-2v-4h2v4z\"/>\n",
              "    </g>\n",
              "</svg>\n",
              "  </button>\n",
              "\n",
              "<style>\n",
              "  .colab-df-quickchart {\n",
              "      --bg-color: #E8F0FE;\n",
              "      --fill-color: #1967D2;\n",
              "      --hover-bg-color: #E2EBFA;\n",
              "      --hover-fill-color: #174EA6;\n",
              "      --disabled-fill-color: #AAA;\n",
              "      --disabled-bg-color: #DDD;\n",
              "  }\n",
              "\n",
              "  [theme=dark] .colab-df-quickchart {\n",
              "      --bg-color: #3B4455;\n",
              "      --fill-color: #D2E3FC;\n",
              "      --hover-bg-color: #434B5C;\n",
              "      --hover-fill-color: #FFFFFF;\n",
              "      --disabled-bg-color: #3B4455;\n",
              "      --disabled-fill-color: #666;\n",
              "  }\n",
              "\n",
              "  .colab-df-quickchart {\n",
              "    background-color: var(--bg-color);\n",
              "    border: none;\n",
              "    border-radius: 50%;\n",
              "    cursor: pointer;\n",
              "    display: none;\n",
              "    fill: var(--fill-color);\n",
              "    height: 32px;\n",
              "    padding: 0;\n",
              "    width: 32px;\n",
              "  }\n",
              "\n",
              "  .colab-df-quickchart:hover {\n",
              "    background-color: var(--hover-bg-color);\n",
              "    box-shadow: 0 1px 2px rgba(60, 64, 67, 0.3), 0 1px 3px 1px rgba(60, 64, 67, 0.15);\n",
              "    fill: var(--button-hover-fill-color);\n",
              "  }\n",
              "\n",
              "  .colab-df-quickchart-complete:disabled,\n",
              "  .colab-df-quickchart-complete:disabled:hover {\n",
              "    background-color: var(--disabled-bg-color);\n",
              "    fill: var(--disabled-fill-color);\n",
              "    box-shadow: none;\n",
              "  }\n",
              "\n",
              "  .colab-df-spinner {\n",
              "    border: 2px solid var(--fill-color);\n",
              "    border-color: transparent;\n",
              "    border-bottom-color: var(--fill-color);\n",
              "    animation:\n",
              "      spin 1s steps(1) infinite;\n",
              "  }\n",
              "\n",
              "  @keyframes spin {\n",
              "    0% {\n",
              "      border-color: transparent;\n",
              "      border-bottom-color: var(--fill-color);\n",
              "      border-left-color: var(--fill-color);\n",
              "    }\n",
              "    20% {\n",
              "      border-color: transparent;\n",
              "      border-left-color: var(--fill-color);\n",
              "      border-top-color: var(--fill-color);\n",
              "    }\n",
              "    30% {\n",
              "      border-color: transparent;\n",
              "      border-left-color: var(--fill-color);\n",
              "      border-top-color: var(--fill-color);\n",
              "      border-right-color: var(--fill-color);\n",
              "    }\n",
              "    40% {\n",
              "      border-color: transparent;\n",
              "      border-right-color: var(--fill-color);\n",
              "      border-top-color: var(--fill-color);\n",
              "    }\n",
              "    60% {\n",
              "      border-color: transparent;\n",
              "      border-right-color: var(--fill-color);\n",
              "    }\n",
              "    80% {\n",
              "      border-color: transparent;\n",
              "      border-right-color: var(--fill-color);\n",
              "      border-bottom-color: var(--fill-color);\n",
              "    }\n",
              "    90% {\n",
              "      border-color: transparent;\n",
              "      border-bottom-color: var(--fill-color);\n",
              "    }\n",
              "  }\n",
              "</style>\n",
              "\n",
              "  <script>\n",
              "    async function quickchart(key) {\n",
              "      const quickchartButtonEl =\n",
              "        document.querySelector('#' + key + ' button');\n",
              "      quickchartButtonEl.disabled = true;  // To prevent multiple clicks.\n",
              "      quickchartButtonEl.classList.add('colab-df-spinner');\n",
              "      try {\n",
              "        const charts = await google.colab.kernel.invokeFunction(\n",
              "            'suggestCharts', [key], {});\n",
              "      } catch (error) {\n",
              "        console.error('Error during call to suggestCharts:', error);\n",
              "      }\n",
              "      quickchartButtonEl.classList.remove('colab-df-spinner');\n",
              "      quickchartButtonEl.classList.add('colab-df-quickchart-complete');\n",
              "    }\n",
              "    (() => {\n",
              "      let quickchartButtonEl =\n",
              "        document.querySelector('#df-3c0f336d-9988-4132-ab7c-26de927c3489 button');\n",
              "      quickchartButtonEl.style.display =\n",
              "        google.colab.kernel.accessAllowed ? 'block' : 'none';\n",
              "    })();\n",
              "  </script>\n",
              "</div>\n",
              "\n",
              "    </div>\n",
              "  </div>\n"
            ],
            "application/vnd.google.colaboratory.intrinsic+json": {
              "type": "dataframe",
              "variable_name": "df",
              "summary": "{\n  \"name\": \"df\",\n  \"rows\": 4845,\n  \"fields\": [\n    {\n      \"column\": \"neutral\",\n      \"properties\": {\n        \"dtype\": \"category\",\n        \"num_unique_values\": 3,\n        \"samples\": [\n          \"neutral\",\n          \"negative\",\n          \"positive\"\n        ],\n        \"semantic_type\": \"\",\n        \"description\": \"\"\n      }\n    },\n    {\n      \"column\": \"According to Gran , the company has no plans to move all production to Russia , although that is where the company is growing .\",\n      \"properties\": {\n        \"dtype\": \"string\",\n        \"num_unique_values\": 4837,\n        \"samples\": [\n          \"The company serves customers in various industries , including process and resources , industrial machinery , architecture , building , construction , electrical , transportation , electronics , chemical , petrochemical , energy , and information technology , as well as catering and households .\",\n          \"Only L+\\u00c6nnen Tehtaat showed a loss , but it has only recently started streamlining measures .\",\n          \"The extracted filtrates are very high in clarity while the dried filter cakes meet required transport moisture limits (TMLs)for their ore grades .\"\n        ],\n        \"semantic_type\": \"\",\n        \"description\": \"\"\n      }\n    }\n  ]\n}"
            }
          },
          "metadata": {},
          "execution_count": 6
        }
      ],
      "source": [
        "# Load and preprocess data\n",
        "df = pd.read_csv('Data/Financial News.csv', delimiter=',', encoding='latin-1')\n",
        "df.head()"
      ]
    },
    {
      "cell_type": "code",
      "execution_count": 7,
      "id": "300c6dcc-8d62-480f-b214-c9ff0806ef96",
      "metadata": {
        "colab": {
          "base_uri": "https://localhost:8080/",
          "height": 206
        },
        "id": "300c6dcc-8d62-480f-b214-c9ff0806ef96",
        "outputId": "ebc5dbd5-7f56-4b25-e404-e7bbed7fc196"
      },
      "outputs": [
        {
          "output_type": "execute_result",
          "data": {
            "text/plain": [
              "  sentiment                                            Message\n",
              "0   neutral  Technopolis plans to develop in stages an area...\n",
              "1  negative  The international electronic industry company ...\n",
              "2  positive  With the new production plant the company woul...\n",
              "3  positive  According to the company 's updated strategy f...\n",
              "4  positive  FINANCING OF ASPOCOMP 'S GROWTH Aspocomp is ag..."
            ],
            "text/html": [
              "\n",
              "  <div id=\"df-97bb3413-536a-4335-86e2-db3712fbe399\" class=\"colab-df-container\">\n",
              "    <div>\n",
              "<style scoped>\n",
              "    .dataframe tbody tr th:only-of-type {\n",
              "        vertical-align: middle;\n",
              "    }\n",
              "\n",
              "    .dataframe tbody tr th {\n",
              "        vertical-align: top;\n",
              "    }\n",
              "\n",
              "    .dataframe thead th {\n",
              "        text-align: right;\n",
              "    }\n",
              "</style>\n",
              "<table border=\"1\" class=\"dataframe\">\n",
              "  <thead>\n",
              "    <tr style=\"text-align: right;\">\n",
              "      <th></th>\n",
              "      <th>sentiment</th>\n",
              "      <th>Message</th>\n",
              "    </tr>\n",
              "  </thead>\n",
              "  <tbody>\n",
              "    <tr>\n",
              "      <th>0</th>\n",
              "      <td>neutral</td>\n",
              "      <td>Technopolis plans to develop in stages an area...</td>\n",
              "    </tr>\n",
              "    <tr>\n",
              "      <th>1</th>\n",
              "      <td>negative</td>\n",
              "      <td>The international electronic industry company ...</td>\n",
              "    </tr>\n",
              "    <tr>\n",
              "      <th>2</th>\n",
              "      <td>positive</td>\n",
              "      <td>With the new production plant the company woul...</td>\n",
              "    </tr>\n",
              "    <tr>\n",
              "      <th>3</th>\n",
              "      <td>positive</td>\n",
              "      <td>According to the company 's updated strategy f...</td>\n",
              "    </tr>\n",
              "    <tr>\n",
              "      <th>4</th>\n",
              "      <td>positive</td>\n",
              "      <td>FINANCING OF ASPOCOMP 'S GROWTH Aspocomp is ag...</td>\n",
              "    </tr>\n",
              "  </tbody>\n",
              "</table>\n",
              "</div>\n",
              "    <div class=\"colab-df-buttons\">\n",
              "\n",
              "  <div class=\"colab-df-container\">\n",
              "    <button class=\"colab-df-convert\" onclick=\"convertToInteractive('df-97bb3413-536a-4335-86e2-db3712fbe399')\"\n",
              "            title=\"Convert this dataframe to an interactive table.\"\n",
              "            style=\"display:none;\">\n",
              "\n",
              "  <svg xmlns=\"http://www.w3.org/2000/svg\" height=\"24px\" viewBox=\"0 -960 960 960\">\n",
              "    <path d=\"M120-120v-720h720v720H120Zm60-500h600v-160H180v160Zm220 220h160v-160H400v160Zm0 220h160v-160H400v160ZM180-400h160v-160H180v160Zm440 0h160v-160H620v160ZM180-180h160v-160H180v160Zm440 0h160v-160H620v160Z\"/>\n",
              "  </svg>\n",
              "    </button>\n",
              "\n",
              "  <style>\n",
              "    .colab-df-container {\n",
              "      display:flex;\n",
              "      gap: 12px;\n",
              "    }\n",
              "\n",
              "    .colab-df-convert {\n",
              "      background-color: #E8F0FE;\n",
              "      border: none;\n",
              "      border-radius: 50%;\n",
              "      cursor: pointer;\n",
              "      display: none;\n",
              "      fill: #1967D2;\n",
              "      height: 32px;\n",
              "      padding: 0 0 0 0;\n",
              "      width: 32px;\n",
              "    }\n",
              "\n",
              "    .colab-df-convert:hover {\n",
              "      background-color: #E2EBFA;\n",
              "      box-shadow: 0px 1px 2px rgba(60, 64, 67, 0.3), 0px 1px 3px 1px rgba(60, 64, 67, 0.15);\n",
              "      fill: #174EA6;\n",
              "    }\n",
              "\n",
              "    .colab-df-buttons div {\n",
              "      margin-bottom: 4px;\n",
              "    }\n",
              "\n",
              "    [theme=dark] .colab-df-convert {\n",
              "      background-color: #3B4455;\n",
              "      fill: #D2E3FC;\n",
              "    }\n",
              "\n",
              "    [theme=dark] .colab-df-convert:hover {\n",
              "      background-color: #434B5C;\n",
              "      box-shadow: 0px 1px 3px 1px rgba(0, 0, 0, 0.15);\n",
              "      filter: drop-shadow(0px 1px 2px rgba(0, 0, 0, 0.3));\n",
              "      fill: #FFFFFF;\n",
              "    }\n",
              "  </style>\n",
              "\n",
              "    <script>\n",
              "      const buttonEl =\n",
              "        document.querySelector('#df-97bb3413-536a-4335-86e2-db3712fbe399 button.colab-df-convert');\n",
              "      buttonEl.style.display =\n",
              "        google.colab.kernel.accessAllowed ? 'block' : 'none';\n",
              "\n",
              "      async function convertToInteractive(key) {\n",
              "        const element = document.querySelector('#df-97bb3413-536a-4335-86e2-db3712fbe399');\n",
              "        const dataTable =\n",
              "          await google.colab.kernel.invokeFunction('convertToInteractive',\n",
              "                                                    [key], {});\n",
              "        if (!dataTable) return;\n",
              "\n",
              "        const docLinkHtml = 'Like what you see? Visit the ' +\n",
              "          '<a target=\"_blank\" href=https://colab.research.google.com/notebooks/data_table.ipynb>data table notebook</a>'\n",
              "          + ' to learn more about interactive tables.';\n",
              "        element.innerHTML = '';\n",
              "        dataTable['output_type'] = 'display_data';\n",
              "        await google.colab.output.renderOutput(dataTable, element);\n",
              "        const docLink = document.createElement('div');\n",
              "        docLink.innerHTML = docLinkHtml;\n",
              "        element.appendChild(docLink);\n",
              "      }\n",
              "    </script>\n",
              "  </div>\n",
              "\n",
              "\n",
              "<div id=\"df-ce202c5e-cb53-4d74-9f81-baef5628aec2\">\n",
              "  <button class=\"colab-df-quickchart\" onclick=\"quickchart('df-ce202c5e-cb53-4d74-9f81-baef5628aec2')\"\n",
              "            title=\"Suggest charts\"\n",
              "            style=\"display:none;\">\n",
              "\n",
              "<svg xmlns=\"http://www.w3.org/2000/svg\" height=\"24px\"viewBox=\"0 0 24 24\"\n",
              "     width=\"24px\">\n",
              "    <g>\n",
              "        <path d=\"M19 3H5c-1.1 0-2 .9-2 2v14c0 1.1.9 2 2 2h14c1.1 0 2-.9 2-2V5c0-1.1-.9-2-2-2zM9 17H7v-7h2v7zm4 0h-2V7h2v10zm4 0h-2v-4h2v4z\"/>\n",
              "    </g>\n",
              "</svg>\n",
              "  </button>\n",
              "\n",
              "<style>\n",
              "  .colab-df-quickchart {\n",
              "      --bg-color: #E8F0FE;\n",
              "      --fill-color: #1967D2;\n",
              "      --hover-bg-color: #E2EBFA;\n",
              "      --hover-fill-color: #174EA6;\n",
              "      --disabled-fill-color: #AAA;\n",
              "      --disabled-bg-color: #DDD;\n",
              "  }\n",
              "\n",
              "  [theme=dark] .colab-df-quickchart {\n",
              "      --bg-color: #3B4455;\n",
              "      --fill-color: #D2E3FC;\n",
              "      --hover-bg-color: #434B5C;\n",
              "      --hover-fill-color: #FFFFFF;\n",
              "      --disabled-bg-color: #3B4455;\n",
              "      --disabled-fill-color: #666;\n",
              "  }\n",
              "\n",
              "  .colab-df-quickchart {\n",
              "    background-color: var(--bg-color);\n",
              "    border: none;\n",
              "    border-radius: 50%;\n",
              "    cursor: pointer;\n",
              "    display: none;\n",
              "    fill: var(--fill-color);\n",
              "    height: 32px;\n",
              "    padding: 0;\n",
              "    width: 32px;\n",
              "  }\n",
              "\n",
              "  .colab-df-quickchart:hover {\n",
              "    background-color: var(--hover-bg-color);\n",
              "    box-shadow: 0 1px 2px rgba(60, 64, 67, 0.3), 0 1px 3px 1px rgba(60, 64, 67, 0.15);\n",
              "    fill: var(--button-hover-fill-color);\n",
              "  }\n",
              "\n",
              "  .colab-df-quickchart-complete:disabled,\n",
              "  .colab-df-quickchart-complete:disabled:hover {\n",
              "    background-color: var(--disabled-bg-color);\n",
              "    fill: var(--disabled-fill-color);\n",
              "    box-shadow: none;\n",
              "  }\n",
              "\n",
              "  .colab-df-spinner {\n",
              "    border: 2px solid var(--fill-color);\n",
              "    border-color: transparent;\n",
              "    border-bottom-color: var(--fill-color);\n",
              "    animation:\n",
              "      spin 1s steps(1) infinite;\n",
              "  }\n",
              "\n",
              "  @keyframes spin {\n",
              "    0% {\n",
              "      border-color: transparent;\n",
              "      border-bottom-color: var(--fill-color);\n",
              "      border-left-color: var(--fill-color);\n",
              "    }\n",
              "    20% {\n",
              "      border-color: transparent;\n",
              "      border-left-color: var(--fill-color);\n",
              "      border-top-color: var(--fill-color);\n",
              "    }\n",
              "    30% {\n",
              "      border-color: transparent;\n",
              "      border-left-color: var(--fill-color);\n",
              "      border-top-color: var(--fill-color);\n",
              "      border-right-color: var(--fill-color);\n",
              "    }\n",
              "    40% {\n",
              "      border-color: transparent;\n",
              "      border-right-color: var(--fill-color);\n",
              "      border-top-color: var(--fill-color);\n",
              "    }\n",
              "    60% {\n",
              "      border-color: transparent;\n",
              "      border-right-color: var(--fill-color);\n",
              "    }\n",
              "    80% {\n",
              "      border-color: transparent;\n",
              "      border-right-color: var(--fill-color);\n",
              "      border-bottom-color: var(--fill-color);\n",
              "    }\n",
              "    90% {\n",
              "      border-color: transparent;\n",
              "      border-bottom-color: var(--fill-color);\n",
              "    }\n",
              "  }\n",
              "</style>\n",
              "\n",
              "  <script>\n",
              "    async function quickchart(key) {\n",
              "      const quickchartButtonEl =\n",
              "        document.querySelector('#' + key + ' button');\n",
              "      quickchartButtonEl.disabled = true;  // To prevent multiple clicks.\n",
              "      quickchartButtonEl.classList.add('colab-df-spinner');\n",
              "      try {\n",
              "        const charts = await google.colab.kernel.invokeFunction(\n",
              "            'suggestCharts', [key], {});\n",
              "      } catch (error) {\n",
              "        console.error('Error during call to suggestCharts:', error);\n",
              "      }\n",
              "      quickchartButtonEl.classList.remove('colab-df-spinner');\n",
              "      quickchartButtonEl.classList.add('colab-df-quickchart-complete');\n",
              "    }\n",
              "    (() => {\n",
              "      let quickchartButtonEl =\n",
              "        document.querySelector('#df-ce202c5e-cb53-4d74-9f81-baef5628aec2 button');\n",
              "      quickchartButtonEl.style.display =\n",
              "        google.colab.kernel.accessAllowed ? 'block' : 'none';\n",
              "    })();\n",
              "  </script>\n",
              "</div>\n",
              "\n",
              "    </div>\n",
              "  </div>\n"
            ],
            "application/vnd.google.colaboratory.intrinsic+json": {
              "type": "dataframe",
              "variable_name": "df",
              "summary": "{\n  \"name\": \"df\",\n  \"rows\": 4845,\n  \"fields\": [\n    {\n      \"column\": \"sentiment\",\n      \"properties\": {\n        \"dtype\": \"category\",\n        \"num_unique_values\": 3,\n        \"samples\": [\n          \"neutral\",\n          \"negative\",\n          \"positive\"\n        ],\n        \"semantic_type\": \"\",\n        \"description\": \"\"\n      }\n    },\n    {\n      \"column\": \"Message\",\n      \"properties\": {\n        \"dtype\": \"string\",\n        \"num_unique_values\": 4837,\n        \"samples\": [\n          \"The company serves customers in various industries , including process and resources , industrial machinery , architecture , building , construction , electrical , transportation , electronics , chemical , petrochemical , energy , and information technology , as well as catering and households .\",\n          \"Only L+\\u00c6nnen Tehtaat showed a loss , but it has only recently started streamlining measures .\",\n          \"The extracted filtrates are very high in clarity while the dried filter cakes meet required transport moisture limits (TMLs)for their ore grades .\"\n        ],\n        \"semantic_type\": \"\",\n        \"description\": \"\"\n      }\n    }\n  ]\n}"
            }
          },
          "metadata": {},
          "execution_count": 7
        }
      ],
      "source": [
        "# Rename column\n",
        "df = df.rename(columns={'neutral': 'sentiment', 'According to Gran , the company has no plans to move all production to Russia , although that is where the company is growing .': 'Message'})\n",
        "df.head()"
      ]
    },
    {
      "cell_type": "code",
      "execution_count": 8,
      "id": "0ec18e80-5587-4b7f-af41-f93303c1a7fb",
      "metadata": {
        "colab": {
          "base_uri": "https://localhost:8080/"
        },
        "id": "0ec18e80-5587-4b7f-af41-f93303c1a7fb",
        "outputId": "128c741e-76a5-46b4-f812-279518caa99a"
      },
      "outputs": [
        {
          "output_type": "stream",
          "name": "stdout",
          "text": [
            "<class 'pandas.core.frame.DataFrame'>\n",
            "RangeIndex: 4845 entries, 0 to 4844\n",
            "Data columns (total 2 columns):\n",
            " #   Column     Non-Null Count  Dtype \n",
            "---  ------     --------------  ----- \n",
            " 0   sentiment  4845 non-null   object\n",
            " 1   Message    4845 non-null   object\n",
            "dtypes: object(2)\n",
            "memory usage: 75.8+ KB\n"
          ]
        }
      ],
      "source": [
        "# Data information\n",
        "df.info()"
      ]
    },
    {
      "cell_type": "code",
      "execution_count": 9,
      "id": "956c0d82-0302-401a-8c67-052808b1b4f8",
      "metadata": {
        "id": "956c0d82-0302-401a-8c67-052808b1b4f8"
      },
      "outputs": [],
      "source": [
        "# Convert sentiment labels to numeric\n",
        "sentiment = {'positive': 0, 'neutral': 1, 'negative': 2}\n",
        "df.sentiment = df.sentiment.map(sentiment)"
      ]
    },
    {
      "cell_type": "code",
      "execution_count": 10,
      "id": "e4a37c94-a6c6-446b-a4e7-79aa73c6882e",
      "metadata": {
        "id": "e4a37c94-a6c6-446b-a4e7-79aa73c6882e"
      },
      "outputs": [],
      "source": [
        "# Text cleaning\n",
        "def cleanText(text):\n",
        "    if isinstance(text, str):\n",
        "        # Process text with BeautifulSoup\n",
        "        try:\n",
        "            text = BeautifulSoup(text, \"lxml\").text\n",
        "        except MarkupResemblesLocatorWarning:\n",
        "            pass\n",
        "        # Remove patterns like URLs\n",
        "        text = re.sub(r'\\|\\|\\|', ' ', text)\n",
        "        text = re.sub(r'http\\S+', '<URL>', text)\n",
        "        # Text to lowercase\n",
        "        text = text.lower()\n",
        "        # Remove punctuation and non-alphabetic characters\n",
        "        text = re.sub(r'[^a-zA-Z\\s]', '', text)\n",
        "    return text"
      ]
    },
    {
      "cell_type": "code",
      "execution_count": 11,
      "id": "95b0589d-43d5-48d5-98ab-15f01fb30fd1",
      "metadata": {
        "colab": {
          "base_uri": "https://localhost:8080/",
          "height": 90
        },
        "id": "95b0589d-43d5-48d5-98ab-15f01fb30fd1",
        "outputId": "851d80c4-9a67-4f5f-a3c3-cd94c6e7bcb8"
      },
      "outputs": [
        {
          "output_type": "stream",
          "name": "stderr",
          "text": [
            "<ipython-input-10-b0ae138a8b30>:6: MarkupResemblesLocatorWarning: The input looks more like a filename than markup. You may want to open this file and pass the filehandle into Beautiful Soup.\n",
            "  text = BeautifulSoup(text, \"lxml\").text\n"
          ]
        },
        {
          "output_type": "execute_result",
          "data": {
            "text/plain": [
              "'for the last quarter of   componenta s net sales doubled to eurm from eurm for the same period a year earlier  while it moved to a zero pretax profit from a pretax loss of eurm '"
            ],
            "application/vnd.google.colaboratory.intrinsic+json": {
              "type": "string"
            }
          },
          "metadata": {},
          "execution_count": 11
        }
      ],
      "source": [
        "df['Message'] = df['Message'].apply(cleanText)\n",
        "df['Message'][5]"
      ]
    },
    {
      "cell_type": "markdown",
      "id": "d8dd2798",
      "metadata": {
        "id": "d8dd2798"
      },
      "source": [
        "# Data Visualization"
      ]
    },
    {
      "cell_type": "code",
      "execution_count": 12,
      "id": "bbb6b1fa-b08d-4233-ac15-8c2bd35c3953",
      "metadata": {
        "colab": {
          "base_uri": "https://localhost:8080/",
          "height": 395
        },
        "id": "bbb6b1fa-b08d-4233-ac15-8c2bd35c3953",
        "outputId": "ce24097a-77bf-4db4-a299-4fd11c7bd80c"
      },
      "outputs": [
        {
          "output_type": "display_data",
          "data": {
            "text/plain": [
              "<Figure size 500x400 with 1 Axes>"
            ],
            "image/png": "[encoded data removed]"
          },
          "metadata": {}
        }
      ],
      "source": [
        "# Sentiment dictionary\n",
        "sentiment = {'Positive': 0, 'Neutral': 1, 'Negative': 2}\n",
        "\n",
        "# Reversing the sentiment\n",
        "sentiment_reversed = {v: k for k, v in sentiment.items()}\n",
        "\n",
        "# Counting the occurrences of each sentiment\n",
        "cnt_pro = df['sentiment'].value_counts()\n",
        "\n",
        "# Mapping the indices\n",
        "cnt_pro.index = cnt_pro.index.map(sentiment_reversed)\n",
        "\n",
        "# Plotting the bar chart\n",
        "plt.figure(figsize=(5, 4))\n",
        "sns.barplot(x=cnt_pro.index, y=cnt_pro.values, alpha=0.8)\n",
        "plt.ylabel('Number of Occurrences', fontsize=12)\n",
        "plt.xlabel('Sentiment', fontsize=12)\n",
        "plt.show()\n"
      ]
    },
    {
      "cell_type": "markdown",
      "id": "9133515d-208b-4af4-b5cb-93e59d0add0d",
      "metadata": {
        "id": "9133515d-208b-4af4-b5cb-93e59d0add0d"
      },
      "source": [
        "# Data splitting"
      ]
    },
    {
      "cell_type": "code",
      "execution_count": 13,
      "id": "d4b8ff16-6889-40b1-9b6f-e2970774fe57",
      "metadata": {
        "id": "d4b8ff16-6889-40b1-9b6f-e2970774fe57"
      },
      "outputs": [],
      "source": [
        "# Split data\n",
        "train_texts, test_texts, train_labels, test_labels = train_test_split(df['Message'].tolist(), df['sentiment'].tolist(), test_size=0.2, random_state=42)"
      ]
    },
    {
      "cell_type": "markdown",
      "id": "3b03d063-7db2-4429-9d4f-b8098c356c7c",
      "metadata": {
        "id": "3b03d063-7db2-4429-9d4f-b8098c356c7c"
      },
      "source": [
        "# Model Fine-tuning and Evaluation"
      ]
    },
    {
      "cell_type": "code",
      "execution_count": 15,
      "id": "59f8b997-8b8a-4537-8cad-108f937519dc",
      "metadata": {
        "colab": {
          "base_uri": "https://localhost:8080/"
        },
        "id": "59f8b997-8b8a-4537-8cad-108f937519dc",
        "outputId": "62a45408-8227-413f-97e9-51ace7de8688"
      },
      "outputs": [
        {
          "output_type": "stream",
          "name": "stdout",
          "text": [
            "torch.Size([3876, 74]) torch.Size([3876, 74]) torch.Size([3876])\n",
            "torch.Size([969, 70]) torch.Size([969, 70]) torch.Size([969])\n"
          ]
        }
      ],
      "source": [
        "# Initialize tokenizer\n",
        "tokenizer = BertTokenizer.from_pretrained('bert-base-uncased')\n",
        "\n",
        "# Function to encode data\n",
        "def encode_data(texts, labels):\n",
        "    encodings = tokenizer(texts, truncation=True, padding=True)\n",
        "    inputs = torch.tensor(encodings['input_ids'])\n",
        "    masks = torch.tensor(encodings['attention_mask'])\n",
        "\n",
        "    # Handle labels properly if they are tensors\n",
        "    if isinstance(labels, torch.Tensor):\n",
        "        labels = labels.clone().detach()\n",
        "    else:\n",
        "        labels = torch.tensor(labels)\n",
        "\n",
        "    return inputs, masks, labels\n",
        "\n",
        "# Encode data\n",
        "train_inputs, train_masks, train_labels = encode_data(train_texts, train_labels)\n",
        "test_inputs, test_masks, test_labels = encode_data(test_texts, test_labels)\n",
        "\n",
        "# Print encoded data shapes as a sanity check\n",
        "print(train_inputs.shape, train_masks.shape, train_labels.shape)\n",
        "print(test_inputs.shape, test_masks.shape, test_labels.shape)\n"
      ]
    },
    {
      "cell_type": "code",
      "execution_count": 16,
      "id": "6808369b-0d89-4336-9f59-cfb12745d2e5",
      "metadata": {
        "id": "6808369b-0d89-4336-9f59-cfb12745d2e5"
      },
      "outputs": [],
      "source": [
        "# Create Dataset class\n",
        "class CustomDataset(Dataset):\n",
        "    def __init__(self, inputs, masks, labels):\n",
        "        self.inputs = inputs\n",
        "        self.masks = masks\n",
        "        self.labels = labels\n",
        "\n",
        "    def __len__(self):\n",
        "        return len(self.labels)\n",
        "\n",
        "    def __getitem__(self, idx):\n",
        "        return {'input_ids': self.inputs[idx], 'attention_mask': self.masks[idx], 'labels': self.labels[idx]}\n",
        "\n",
        "train_dataset = CustomDataset(train_inputs, train_masks, train_labels)\n",
        "test_dataset = CustomDataset(test_inputs, test_masks, test_labels)\n"
      ]
    },
    {
      "cell_type": "code",
      "execution_count": 17,
      "id": "mJHF9dDLFblm",
      "metadata": {
        "colab": {
          "base_uri": "https://localhost:8080/",
          "height": 84,
          "referenced_widgets": [
            "c47bedfe5b1d4fc7a124dc2e6fe0db77",
            "d150afcaad16416fb0ac39ac3886694a",
            "82e7059088ca42bbac934f6ea65d12b1",
            "dfaf92a373a94eb0bf69c003ac09d533",
            "41a5567bbc79414988421fbf59338038",
            "72651543135a45dcb5fe1089587b861a",
            "8ba159ce2ee94c1e8f7b410ea2b620ad",
            "5d022f91e13349a596dac4591da9b05b",
            "241ff1c0b79640aa9bd0c8421215874d",
            "19528422d8b84ab4adb2ed930b6cc71f",
            "0e4f04d97c55403cae41a96fe981ec75"
          ]
        },
        "id": "mJHF9dDLFblm",
        "outputId": "fa84b65c-04f6-44c2-d25b-e482aed65a75"
      },
      "outputs": [
        {
          "output_type": "display_data",
          "data": {
            "text/plain": [
              "model.safetensors:   0%|          | 0.00/440M [00:00<?, ?B/s]"
            ],
            "application/vnd.jupyter.widget-view+json": {
              "version_major": 2,
              "version_minor": 0,
              "model_id": "c47bedfe5b1d4fc7a124dc2e6fe0db77"
            }
          },
          "metadata": {}
        },
        {
          "output_type": "stream",
          "name": "stderr",
          "text": [
            "Some weights of BertForSequenceClassification were not initialized from the model checkpoint at bert-base-uncased and are newly initialized: ['classifier.bias', 'classifier.weight']\n",
            "You should probably TRAIN this model on a down-stream task to be able to use it for predictions and inference.\n"
          ]
        }
      ],
      "source": [
        "# Define model and training arguments\n",
        "model = BertForSequenceClassification.from_pretrained('bert-base-uncased', num_labels=3)\n",
        "\n",
        "training_args = TrainingArguments(\n",
        "    output_dir='./results',\n",
        "    num_train_epochs=7,\n",
        "    per_device_train_batch_size=16,\n",
        "    per_device_eval_batch_size=64,\n",
        "    warmup_steps=500,\n",
        "    weight_decay=0.1,  # Increased for regularization\n",
        "    logging_dir='./logs',\n",
        "    logging_steps=7,\n",
        "    eval_strategy=\"epoch\",\n",
        "    save_strategy=\"epoch\",\n",
        "    save_total_limit=1,\n",
        "    lr_scheduler_type='linear',\n",
        "    load_best_model_at_end=True,\n",
        "    metric_for_best_model = 'eval_loss',\n",
        ")"
      ]
    },
    {
      "cell_type": "code",
      "execution_count": 18,
      "id": "1a931a49-b758-40a4-ad02-2f1dabe96633",
      "metadata": {
        "id": "1a931a49-b758-40a4-ad02-2f1dabe96633"
      },
      "outputs": [],
      "source": [
        "# Define metrics\n",
        "def compute_metrics(pred):\n",
        "    labels = pred.label_ids\n",
        "    preds = pred.predictions.argmax(-1)\n",
        "    precision, recall, f1, _ = precision_recall_fscore_support(labels, preds, average='weighted')\n",
        "    acc = accuracy_score(labels, preds)\n",
        "    return {\n",
        "        'accuracy': acc,\n",
        "        'f1': f1,\n",
        "        'precision': precision,\n",
        "        'recall': recall\n",
        "    }"
      ]
    },
    {
      "cell_type": "code",
      "execution_count": 19,
      "id": "9e1c34eb-8e20-4587-95c6-2c688dd362a7",
      "metadata": {
        "colab": {
          "base_uri": "https://localhost:8080/",
          "height": 204
        },
        "id": "9e1c34eb-8e20-4587-95c6-2c688dd362a7",
        "outputId": "1c5d5b0a-9ad0-452e-e005-2930296d907a"
      },
      "outputs": [
        {
          "output_type": "display_data",
          "data": {
            "text/plain": [
              "<IPython.core.display.HTML object>"
            ],
            "text/html": [
              "\n",
              "    <div>\n",
              "      \n",
              "      <progress value='729' max='1701' style='width:300px; height:20px; vertical-align: middle;'></progress>\n",
              "      [ 729/1701 03:23 < 04:31, 3.58 it/s, Epoch 3/7]\n",
              "    </div>\n",
              "    <table border=\"1\" class=\"dataframe\">\n",
              "  <thead>\n",
              " <tr style=\"text-align: left;\">\n",
              "      <th>Epoch</th>\n",
              "      <th>Training Loss</th>\n",
              "      <th>Validation Loss</th>\n",
              "      <th>Accuracy</th>\n",
              "      <th>F1</th>\n",
              "      <th>Precision</th>\n",
              "      <th>Recall</th>\n",
              "    </tr>\n",
              "  </thead>\n",
              "  <tbody>\n",
              "    <tr>\n",
              "      <td>1</td>\n",
              "      <td>0.308900</td>\n",
              "      <td>0.509472</td>\n",
              "      <td>0.822497</td>\n",
              "      <td>0.814518</td>\n",
              "      <td>0.831657</td>\n",
              "      <td>0.822497</td>\n",
              "    </tr>\n",
              "    <tr>\n",
              "      <td>2</td>\n",
              "      <td>0.282200</td>\n",
              "      <td>0.425196</td>\n",
              "      <td>0.836945</td>\n",
              "      <td>0.835086</td>\n",
              "      <td>0.835965</td>\n",
              "      <td>0.836945</td>\n",
              "    </tr>\n",
              "    <tr>\n",
              "      <td>3</td>\n",
              "      <td>0.337700</td>\n",
              "      <td>0.573077</td>\n",
              "      <td>0.833849</td>\n",
              "      <td>0.831573</td>\n",
              "      <td>0.833196</td>\n",
              "      <td>0.833849</td>\n",
              "    </tr>\n",
              "  </tbody>\n",
              "</table><p>"
            ]
          },
          "metadata": {}
        },
        {
          "output_type": "execute_result",
          "data": {
            "text/plain": [
              "TrainOutput(global_step=729, training_loss=0.46450555376933356, metrics={'train_runtime': 204.9944, 'train_samples_per_second': 132.355, 'train_steps_per_second': 8.298, 'total_flos': 442190876521968.0, 'train_loss': 0.46450555376933356, 'epoch': 3.0})"
            ]
          },
          "metadata": {},
          "execution_count": 19
        }
      ],
      "source": [
        "# Train the model\n",
        "trainer = Trainer(\n",
        "    model=model,\n",
        "    args=training_args,\n",
        "    train_dataset=train_dataset,\n",
        "    eval_dataset=test_dataset,\n",
        "    compute_metrics=compute_metrics,\n",
        "    callbacks = [EarlyStoppingCallback(early_stopping_patience=1)]\n",
        ")\n",
        "\n",
        "trainer.train()"
      ]
    },
    {
      "cell_type": "code",
      "execution_count": 20,
      "id": "8f6580cf-bd78-4c2c-81af-d55dcd72a805",
      "metadata": {
        "colab": {
          "base_uri": "https://localhost:8080/",
          "height": 74
        },
        "id": "8f6580cf-bd78-4c2c-81af-d55dcd72a805",
        "outputId": "6994fccd-e5a4-4ab1-9fd0-fd6f8168505e"
      },
      "outputs": [
        {
          "output_type": "display_data",
          "data": {
            "text/plain": [
              "<IPython.core.display.HTML object>"
            ],
            "text/html": [
              "\n",
              "    <div>\n",
              "      \n",
              "      <progress value='16' max='16' style='width:300px; height:20px; vertical-align: middle;'></progress>\n",
              "      [16/16 00:03]\n",
              "    </div>\n",
              "    "
            ]
          },
          "metadata": {}
        },
        {
          "output_type": "stream",
          "name": "stdout",
          "text": [
            "{'eval_loss': 0.42519640922546387, 'eval_accuracy': 0.8369453044375645, 'eval_f1': 0.8350863176713955, 'eval_precision': 0.8359652057670162, 'eval_recall': 0.8369453044375645, 'eval_runtime': 3.7544, 'eval_samples_per_second': 258.096, 'eval_steps_per_second': 4.262, 'epoch': 3.0}\n"
          ]
        }
      ],
      "source": [
        "# Evaluate the model\n",
        "results = trainer.evaluate()\n",
        "print(results)"
      ]
    },
    {
      "cell_type": "markdown",
      "id": "511e43f4-affe-4085-9f32-b25a5461c75c",
      "metadata": {
        "id": "511e43f4-affe-4085-9f32-b25a5461c75c"
      },
      "source": [
        "# Model Visualization"
      ]
    },
    {
      "cell_type": "code",
      "execution_count": 28,
      "id": "45e3b369-3eac-4a75-882e-ee46be63c86d",
      "metadata": {
        "colab": {
          "base_uri": "https://localhost:8080/",
          "height": 507
        },
        "id": "45e3b369-3eac-4a75-882e-ee46be63c86d",
        "outputId": "1674987c-37e1-497b-8729-5757c8db8030"
      },
      "outputs": [
        {
          "output_type": "display_data",
          "data": {
            "text/plain": [
              "<Figure size 1200x500 with 2 Axes>"
            ],
            "image/png": "[encoded data removed]"
          },
          "metadata": {}
        }
      ],
      "source": [
        "# Visualization of training results\n",
        "history = trainer.state.log_history\n",
        "\n",
        "# Extracting the relevant history data\n",
        "train_acc = [x['eval_accuracy'] for x in history if 'eval_accuracy' in x]\n",
        "train_loss = [x['eval_loss'] for x in history if 'eval_loss' in x]\n",
        "epochs = list(range(1, len(train_acc) + 1))\n",
        "\n",
        "plt.figure(figsize=(12, 5))\n",
        "\n",
        "plt.subplot(1, 2, 1)\n",
        "plt.plot(epochs, train_acc, label='Train Accuracy')\n",
        "plt.xlabel('Epochs')\n",
        "plt.ylabel('Accuracy')\n",
        "plt.title('Training Accuracy')\n",
        "plt.legend()\n",
        "\n",
        "plt.subplot(1, 2, 2)\n",
        "plt.plot(epochs, train_loss, label='Train Loss')\n",
        "plt.xlabel('Epochs')\n",
        "plt.ylabel('Loss')\n",
        "plt.title('Training Loss')\n",
        "plt.legend()\n",
        "\n",
        "plt.tight_layout()\n",
        "plt.show()"
      ]
    },
    {
      "cell_type": "markdown",
      "id": "c4ced6f2-1012-4349-b359-568a8717ce11",
      "metadata": {
        "id": "c4ced6f2-1012-4349-b359-568a8717ce11"
      },
      "source": [
        "# Model Saving"
      ]
    },
    {
      "cell_type": "code",
      "execution_count": 29,
      "id": "NPaOSlyuuKRU",
      "metadata": {
        "id": "NPaOSlyuuKRU"
      },
      "outputs": [],
      "source": [
        "# Save the fine-tuned model\n",
        "trainer.save_model('./fine_tuned_model')"
      ]
    },
    {
      "cell_type": "markdown",
      "id": "2dd419ec-be96-42c5-a3ad-775f2e3ccd4a",
      "metadata": {
        "id": "2dd419ec-be96-42c5-a3ad-775f2e3ccd4a"
      },
      "source": [
        "# Model Testing"
      ]
    },
    {
      "cell_type": "code",
      "execution_count": 30,
      "id": "qujbyJqCDqYJ",
      "metadata": {
        "id": "qujbyJqCDqYJ"
      },
      "outputs": [],
      "source": [
        "# Make predictions\n",
        "def predict(text):\n",
        "    encoding = tokenizer(text, return_tensors='pt', truncation=True, padding=True)\n",
        "\n",
        "    # Move input tensors to the same device as the model\n",
        "    input_ids = encoding['input_ids'].to(model.device)\n",
        "    attention_mask = encoding['attention_mask'].to(model.device)\n",
        "\n",
        "    outputs = model(input_ids, attention_mask=attention_mask)\n",
        "    probs = torch.nn.functional.softmax(outputs.logits, dim=-1)\n",
        "    return torch.argmax(probs, dim=1).item()"
      ]
    },
    {
      "cell_type": "code",
      "execution_count": 31,
      "id": "e3259ebf-f736-4c83-81d4-6ce86fb0ba9f",
      "metadata": {
        "colab": {
          "base_uri": "https://localhost:8080/"
        },
        "id": "e3259ebf-f736-4c83-81d4-6ce86fb0ba9f",
        "outputId": "520e3d14-a2c8-4740-8281-bafed38d8c4d"
      },
      "outputs": [
        {
          "output_type": "stream",
          "name": "stdout",
          "text": [
            "Message: Congratulations! you have won a $1,000 Walmart gift card\n",
            "Sentiment: neutral\n",
            "\n",
            "Message: such massive asteroid hit will certainly create new business opportunities\n",
            "Sentiment: positive\n",
            "\n",
            "Message: so does anyone else not open Snapchat anymore? or is it just me... ugh this so sad.\n",
            "Sentiment: neutral\n",
            "\n",
            "Message: @elonmusk had a terrible experience with a very pushy sales guy from tesla Stanford shop while shopping for model x\n",
            "Sentiment: negative\n",
            "\n",
            "Message: The local electronics industry is expected to remain stable amid layoff concerns surrounding Japanese electronics giants operating in the country, an official says.\n",
            "Sentiment: negative\n",
            "\n",
            "Message: The local electronics industry is amid layoff concerns and last year has laid off tens of employees\n",
            "Sentiment: negative\n",
            "\n"
          ]
        }
      ],
      "source": [
        "labels = ['positive', 'neutral', 'negative']\n",
        "messages = [\n",
        "    \"Congratulations! you have won a $1,000 Walmart gift card\",\n",
        "    \"such massive asteroid hit will certainly create new business opportunities\",\n",
        "    \"so does anyone else not open Snapchat anymore? or is it just me... ugh this so sad.\",\n",
        "    \"@elonmusk had a terrible experience with a very pushy sales guy from tesla Stanford shop while shopping for model x\",\n",
        "    \"The local electronics industry is expected to remain stable amid layoff concerns surrounding Japanese electronics giants operating in the country, an official says.\",\n",
        "    \"The local electronics industry is amid layoff concerns and last year has laid off tens of employees\"\n",
        "]\n",
        "\n",
        "for message in messages:\n",
        "    sentiment = predict(message)\n",
        "    print(f'Message: {message}\\nSentiment: {labels[sentiment]}\\n')"
      ]
    },
    {
      "cell_type": "markdown",
      "id": "8ecf99d6-29e8-4acc-a727-b680a709f70c",
      "metadata": {
        "id": "8ecf99d6-29e8-4acc-a727-b680a709f70c"
      },
      "source": [
        "# Lode Model and Testing"
      ]
    },
    {
      "cell_type": "code",
      "execution_count": 32,
      "id": "pkHOCXFuuokU",
      "metadata": {
        "colab": {
          "base_uri": "https://localhost:8080/"
        },
        "id": "pkHOCXFuuokU",
        "outputId": "4c81f6f7-9cfc-449a-e8d2-2408abc3c9ea"
      },
      "outputs": [
        {
          "output_type": "stream",
          "name": "stderr",
          "text": [
            "Hardware accelerator e.g. GPU is available in the environment, but no `device` argument is passed to the `Pipeline` object. Model will be on CPU.\n"
          ]
        }
      ],
      "source": [
        "from transformers import BertForSequenceClassification, pipeline\n",
        "\n",
        "# Load the fine-tuned model\n",
        "model_path = 'fine_tuned_model'  # Path to your saved model\n",
        "loaded_model = BertForSequenceClassification.from_pretrained(model_path)\n",
        "\n",
        "# Create a pipeline for sentiment analysis (or your relevant task)\n",
        "classifier = pipeline('sentiment-analysis', model=loaded_model.to('cuda'), tokenizer=tokenizer, top_k=None)\n"
      ]
    },
    {
      "cell_type": "code",
      "execution_count": 33,
      "id": "f23c6eb9-c81e-4721-8140-020e490b85a5",
      "metadata": {
        "colab": {
          "base_uri": "https://localhost:8080/"
        },
        "id": "f23c6eb9-c81e-4721-8140-020e490b85a5",
        "outputId": "b6fbd843-24c1-4026-8505-1aada6b291db"
      },
      "outputs": [
        {
          "output_type": "stream",
          "name": "stdout",
          "text": [
            "[{'label': 'LABEL_1', 'score': 0.7587506175041199}, {'label': 'LABEL_0', 'score': 0.22476251423358917}, {'label': 'LABEL_2', 'score': 0.016486849635839462}]\n",
            "[{'label': 'LABEL_2', 'score': 0.8572981953620911}, {'label': 'LABEL_1', 'score': 0.10714437067508698}, {'label': 'LABEL_0', 'score': 0.03555741906166077}]\n",
            "[{'label': 'LABEL_1', 'score': 0.9509609341621399}, {'label': 'LABEL_0', 'score': 0.0423225462436676}, {'label': 'LABEL_2', 'score': 0.006716509815305471}]\n"
          ]
        }
      ],
      "source": [
        "# Example test data\n",
        "test_texts = [\n",
        "    \"This movie is absolutely fantastic!\",\n",
        "    \"I had a terrible experience at that restaurant.\",\n",
        "    \"The product is okay, nothing special.\"\n",
        "]\n",
        "\n",
        "# Perform inference on test data\n",
        "results = classifier(test_texts)\n",
        "\n",
        "# Print the results\n",
        "for result in results:\n",
        "    print(result)"
      ]
    },
    {
      "cell_type": "code",
      "execution_count": 27,
      "id": "p3idMS9g8Q-M",
      "metadata": {
        "id": "p3idMS9g8Q-M"
      },
      "outputs": [],
      "source": []
    }
  ],
  "metadata": {
    "accelerator": "GPU",
    "colab": {
      "gpuType": "T4",
      "provenance": []
    },
    "kernelspec": {
      "display_name": "Python 3 (ipykernel)",
      "language": "python",
      "name": "python3"
    },
    "language_info": {
      "codemirror_mode": {
        "name": "ipython",
        "version": 3
      },
      "file_extension": ".py",
      "mimetype": "text/x-python",
      "name": "python",
      "nbconvert_exporter": "python",
      "pygments_lexer": "ipython3",
      "version": "3.11.7"
    },
    "widgets": {
      "application/vnd.jupyter.widget-state+json": {
        "c47bedfe5b1d4fc7a124dc2e6fe0db77": {
          "model_module": "@jupyter-widgets/controls",
          "model_name": "HBoxModel",
          "model_module_version": "1.5.0",
          "state": {
            "_dom_classes": [],
            "_model_module": "@jupyter-widgets/controls",
            "_model_module_version": "1.5.0",
            "_model_name": "HBoxModel",
            "_view_count": null,
            "_view_module": "@jupyter-widgets/controls",
            "_view_module_version": "1.5.0",
            "_view_name": "HBoxView",
            "box_style": "",
            "children": [
              "IPY_MODEL_d150afcaad16416fb0ac39ac3886694a",
              "IPY_MODEL_82e7059088ca42bbac934f6ea65d12b1",
              "IPY_MODEL_dfaf92a373a94eb0bf69c003ac09d533"
            ],
            "layout": "IPY_MODEL_41a5567bbc79414988421fbf59338038"
          }
        },
        "d150afcaad16416fb0ac39ac3886694a": {
          "model_module": "@jupyter-widgets/controls",
          "model_name": "HTMLModel",
          "model_module_version": "1.5.0",
          "state": {
            "_dom_classes": [],
            "_model_module": "@jupyter-widgets/controls",
            "_model_module_version": "1.5.0",
            "_model_name": "HTMLModel",
            "_view_count": null,
            "_view_module": "@jupyter-widgets/controls",
            "_view_module_version": "1.5.0",
            "_view_name": "HTMLView",
            "description": "",
            "description_tooltip": null,
            "layout": "IPY_MODEL_72651543135a45dcb5fe1089587b861a",
            "placeholder": "​",
            "style": "IPY_MODEL_8ba159ce2ee94c1e8f7b410ea2b620ad",
            "value": "model.safetensors: 100%"
          }
        },
        "82e7059088ca42bbac934f6ea65d12b1": {
          "model_module": "@jupyter-widgets/controls",
          "model_name": "FloatProgressModel",
          "model_module_version": "1.5.0",
          "state": {
            "_dom_classes": [],
            "_model_module": "@jupyter-widgets/controls",
            "_model_module_version": "1.5.0",
            "_model_name": "FloatProgressModel",
            "_view_count": null,
            "_view_module": "@jupyter-widgets/controls",
            "_view_module_version": "1.5.0",
            "_view_name": "ProgressView",
            "bar_style": "success",
            "description": "",
            "description_tooltip": null,
            "layout": "IPY_MODEL_5d022f91e13349a596dac4591da9b05b",
            "max": 440449768,
            "min": 0,
            "orientation": "horizontal",
            "style": "IPY_MODEL_241ff1c0b79640aa9bd0c8421215874d",
            "value": 440449768
          }
        },
        "dfaf92a373a94eb0bf69c003ac09d533": {
          "model_module": "@jupyter-widgets/controls",
          "model_name": "HTMLModel",
          "model_module_version": "1.5.0",
          "state": {
            "_dom_classes": [],
            "_model_module": "@jupyter-widgets/controls",
            "_model_module_version": "1.5.0",
            "_model_name": "HTMLModel",
            "_view_count": null,
            "_view_module": "@jupyter-widgets/controls",
            "_view_module_version": "1.5.0",
            "_view_name": "HTMLView",
            "description": "",
            "description_tooltip": null,
            "layout": "IPY_MODEL_19528422d8b84ab4adb2ed930b6cc71f",
            "placeholder": "​",
            "style": "IPY_MODEL_0e4f04d97c55403cae41a96fe981ec75",
            "value": " 440M/440M [00:01&lt;00:00, 274MB/s]"
          }
        },
        "41a5567bbc79414988421fbf59338038": {
          "model_module": "@jupyter-widgets/base",
          "model_name": "LayoutModel",
          "model_module_version": "1.2.0",
          "state": {
            "_model_module": "@jupyter-widgets/base",
            "_model_module_version": "1.2.0",
            "_model_name": "LayoutModel",
            "_view_count": null,
            "_view_module": "@jupyter-widgets/base",
            "_view_module_version": "1.2.0",
            "_view_name": "LayoutView",
            "align_content": null,
            "align_items": null,
            "align_self": null,
            "border": null,
            "bottom": null,
            "display": null,
            "flex": null,
            "flex_flow": null,
            "grid_area": null,
            "grid_auto_columns": null,
            "grid_auto_flow": null,
            "grid_auto_rows": null,
            "grid_column": null,
            "grid_gap": null,
            "grid_row": null,
            "grid_template_areas": null,
            "grid_template_columns": null,
            "grid_template_rows": null,
            "height": null,
            "justify_content": null,
            "justify_items": null,
            "left": null,
            "margin": null,
            "max_height": null,
            "max_width": null,
            "min_height": null,
            "min_width": null,
            "object_fit": null,
            "object_position": null,
            "order": null,
            "overflow": null,
            "overflow_x": null,
            "overflow_y": null,
            "padding": null,
            "right": null,
            "top": null,
            "visibility": null,
            "width": null
          }
        },
        "72651543135a45dcb5fe1089587b861a": {
          "model_module": "@jupyter-widgets/base",
          "model_name": "LayoutModel",
          "model_module_version": "1.2.0",
          "state": {
            "_model_module": "@jupyter-widgets/base",
            "_model_module_version": "1.2.0",
            "_model_name": "LayoutModel",
            "_view_count": null,
            "_view_module": "@jupyter-widgets/base",
            "_view_module_version": "1.2.0",
            "_view_name": "LayoutView",
            "align_content": null,
            "align_items": null,
            "align_self": null,
            "border": null,
            "bottom": null,
            "display": null,
            "flex": null,
            "flex_flow": null,
            "grid_area": null,
            "grid_auto_columns": null,
            "grid_auto_flow": null,
            "grid_auto_rows": null,
            "grid_column": null,
            "grid_gap": null,
            "grid_row": null,
            "grid_template_areas": null,
            "grid_template_columns": null,
            "grid_template_rows": null,
            "height": null,
            "justify_content": null,
            "justify_items": null,
            "left": null,
            "margin": null,
            "max_height": null,
            "max_width": null,
            "min_height": null,
            "min_width": null,
            "object_fit": null,
            "object_position": null,
            "order": null,
            "overflow": null,
            "overflow_x": null,
            "overflow_y": null,
            "padding": null,
            "right": null,
            "top": null,
            "visibility": null,
            "width": null
          }
        },
        "8ba159ce2ee94c1e8f7b410ea2b620ad": {
          "model_module": "@jupyter-widgets/controls",
          "model_name": "DescriptionStyleModel",
          "model_module_version": "1.5.0",
          "state": {
            "_model_module": "@jupyter-widgets/controls",
            "_model_module_version": "1.5.0",
            "_model_name": "DescriptionStyleModel",
            "_view_count": null,
            "_view_module": "@jupyter-widgets/base",
            "_view_module_version": "1.2.0",
            "_view_name": "StyleView",
            "description_width": ""
          }
        },
        "5d022f91e13349a596dac4591da9b05b": {
          "model_module": "@jupyter-widgets/base",
          "model_name": "LayoutModel",
          "model_module_version": "1.2.0",
          "state": {
            "_model_module": "@jupyter-widgets/base",
            "_model_module_version": "1.2.0",
            "_model_name": "LayoutModel",
            "_view_count": null,
            "_view_module": "@jupyter-widgets/base",
            "_view_module_version": "1.2.0",
            "_view_name": "LayoutView",
            "align_content": null,
            "align_items": null,
            "align_self": null,
            "border": null,
            "bottom": null,
            "display": null,
            "flex": null,
            "flex_flow": null,
            "grid_area": null,
            "grid_auto_columns": null,
            "grid_auto_flow": null,
            "grid_auto_rows": null,
            "grid_column": null,
            "grid_gap": null,
            "grid_row": null,
            "grid_template_areas": null,
            "grid_template_columns": null,
            "grid_template_rows": null,
            "height": null,
            "justify_content": null,
            "justify_items": null,
            "left": null,
            "margin": null,
            "max_height": null,
            "max_width": null,
            "min_height": null,
            "min_width": null,
            "object_fit": null,
            "object_position": null,
            "order": null,
            "overflow": null,
            "overflow_x": null,
            "overflow_y": null,
            "padding": null,
            "right": null,
            "top": null,
            "visibility": null,
            "width": null
          }
        },
        "241ff1c0b79640aa9bd0c8421215874d": {
          "model_module": "@jupyter-widgets/controls",
          "model_name": "ProgressStyleModel",
          "model_module_version": "1.5.0",
          "state": {
            "_model_module": "@jupyter-widgets/controls",
            "_model_module_version": "1.5.0",
            "_model_name": "ProgressStyleModel",
            "_view_count": null,
            "_view_module": "@jupyter-widgets/base",
            "_view_module_version": "1.2.0",
            "_view_name": "StyleView",
            "bar_color": null,
            "description_width": ""
          }
        },
        "19528422d8b84ab4adb2ed930b6cc71f": {
          "model_module": "@jupyter-widgets/base",
          "model_name": "LayoutModel",
          "model_module_version": "1.2.0",
          "state": {
            "_model_module": "@jupyter-widgets/base",
            "_model_module_version": "1.2.0",
            "_model_name": "LayoutModel",
            "_view_count": null,
            "_view_module": "@jupyter-widgets/base",
            "_view_module_version": "1.2.0",
            "_view_name": "LayoutView",
            "align_content": null,
            "align_items": null,
            "align_self": null,
            "border": null,
            "bottom": null,
            "display": null,
            "flex": null,
            "flex_flow": null,
            "grid_area": null,
            "grid_auto_columns": null,
            "grid_auto_flow": null,
            "grid_auto_rows": null,
            "grid_column": null,
            "grid_gap": null,
            "grid_row": null,
            "grid_template_areas": null,
            "grid_template_columns": null,
            "grid_template_rows": null,
            "height": null,
            "justify_content": null,
            "justify_items": null,
            "left": null,
            "margin": null,
            "max_height": null,
            "max_width": null,
            "min_height": null,
            "min_width": null,
            "object_fit": null,
            "object_position": null,
            "order": null,
            "overflow": null,
            "overflow_x": null,
            "overflow_y": null,
            "padding": null,
            "right": null,
            "top": null,
            "visibility": null,
            "width": null
          }
        },
        "0e4f04d97c55403cae41a96fe981ec75": {
          "model_module": "@jupyter-widgets/controls",
          "model_name": "DescriptionStyleModel",
          "model_module_version": "1.5.0",
          "state": {
            "_model_module": "@jupyter-widgets/controls",
            "_model_module_version": "1.5.0",
            "_model_name": "DescriptionStyleModel",
            "_view_count": null,
            "_view_module": "@jupyter-widgets/base",
            "_view_module_version": "1.2.0",
            "_view_name": "StyleView",
            "description_width": ""
          }
        }
      }
    }
  },
  "nbformat": 4,
  "nbformat_minor": 5
}